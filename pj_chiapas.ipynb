{
 "cells": [
  {
   "cell_type": "markdown",
   "metadata": {},
   "source": [
    "# 🗺️ Proyecto: Red de Distribución \"Corazón de Chiapas\"\n",
    "\n",
    "Este notebook modela una red de distribución logística utilizando Teoría de Grafos, basado en un caso de estudio de la materia Matemáticas Discretas.\n",
    "\n",
    "[![Open In Colab](https://colab.research.google.com/assets/colab-badge.svg)](https://colab.research.google.com/github/scysco/Essentials/blob/main/graph_theory/pj_chiapas/pj_chiapas.ipynb)\n",
    "\n",
    "---"
   ]
  },
  {
   "cell_type": "markdown",
   "metadata": {},
   "source": [
    "## 🛠️ 1. Instalación de Dependencias\n",
    "\n",
    "Primero, nos aseguramos de tener las librerías necesarias. `networkx` para la creación y manejo de grafos, `matplotlib` para la visualización y `scipy` que es una dependencia de `networkx` para layouts avanzados como `kamada_kawai`."
   ]
  },
  {
   "cell_type": "code",
   "execution_count": null,
   "metadata": {},
   "outputs": [],
   "source": [
    "!pip install networkx matplotlib scipy"
   ]
  },
  {
   "cell_type": "markdown",
   "metadata": {},
   "source": [
    "## 📦 2. Importación de Librerías\n",
    "\n",
    "Ahora importamos los módulos que usaremos en nuestro script."
   ]
  },
  {
   "cell_type": "code",
   "execution_count": null,
   "metadata": {},
   "outputs": [],
   "source": [
    "import networkx as nx\n",
    "import matplotlib.pyplot as plt"
   ]
  },
  {
   "cell_type": "markdown",
   "metadata": {},
   "source": [
    "## 🎯 3. Definición del Problema (Datos)\n",
    "\n",
    "Basado en el caso de estudio \"Red de distribución de artesanías Corazón de Chiapas\", definimos las localidades (nodos) y las conexiones viales (aristas).\n",
    "\n",
    "### Nodos (Vértices) 📍\n",
    "Usamos un diccionario para mapear las abreviaturas (claves) a los nombres completos (valores) para usarlos como etiquetas.\n",
    "\n",
    "### Aristas (Ejes) ↔️\n",
    "Definimos las conexiones de doble sentido que existen entre las localidades."
   ]
  },
  {
   "cell_type": "code",
   "execution_count": null,
   "metadata": {},
   "outputs": [],
   "source": [
    "# Creamos un grafo No Dirigido (simple)\n",
    "G = nx.Graph()\n",
    "\n",
    "# 1. Defino los nodos (Vértices)\n",
    "# Uso abreviaturas para claridad en el gráfico y el diccionario para las etiquetas\n",
    "nodes = {\n",
    "    'BC': 'Balún Canán',\n",
    "    'J': 'Jocotal',\n",
    "    'PL': 'Piedra Larga',\n",
    "    'RF': 'Río Florido',\n",
    "    'AC': 'Agua Clara',\n",
    "    'M': 'Montebello'\n",
    "}\n",
    "G.add_nodes_from(nodes.keys())\n",
    "\n",
    "# 2. Defino las aristas (E) - Conexiones de doble sentido\n",
    "edges = [\n",
    "    ('BC', 'J'),   # Balún Canán - Jocotal \n",
    "    ('BC', 'AC'),  # Balún Canán - Agua Clara \n",
    "    ('BC', 'RF'),  # Balún Canán - Río Florido \n",
    "    ('J', 'PL'),   # Jocotal - Piedra Larga \n",
    "    ('PL', 'RF'),  # Piedra Larga - Río Florido \n",
    "    ('AC', 'M'),   # Agua Clara - Montebello \n",
    "    ('RF', 'AC')   # Río Florido - Agua Clara \n",
    "]\n",
    "G.add_edges_from(edges)\n",
    "\n",
    "print(f\"✅ Grafo creado con {G.number_of_nodes()} nodos y {G.number_of_edges()} aristas.\")"
   ]
  },
  {
   "cell_type": "markdown",
   "metadata": {},
   "source": [
    "## 📊 4. Visualización del Grafo\n",
    "\n",
    "Ahora que el grafo está construido en memoria, procedemos a dibujarlo.\n",
    "\n",
    "1.  **Layout**: Usamos `nx.kamada_kawai_layout(G)` para calcular las posiciones (x, y) de cada nodo. Este layout intenta ubicar los nodos de forma que las distancias sean estéticamente agradables y claras.\n",
    "2.  **Dibujo**: Usamos `nx.draw()` para renderizar el grafo, pasando nuestras etiquetas, colores y tamaños personalizados.\n",
    "3.  **Resultado**: Mostramos el gráfico en pantalla con `plt.show()` y también lo guardamos en un archivo `png`."
   ]
  },
  {
   "cell_type": "code",
   "execution_count": null,
   "metadata": {},
   "outputs": [],
   "source": [
    "# 3. Defino un layout para la visualización\n",
    "# Kamada-Kawai es un layout que intenta optimizar la posición de los nodos\n",
    "pos = nx.kamada_kawai_layout(G)\n",
    "\n",
    "# 4. Dibujo el grafo\n",
    "plt.figure(figsize=(10, 7))\n",
    "nx.draw(\n",
    "    G,\n",
    "    pos,\n",
    "    labels=nodes,  # Uso los nombres completos como etiquetas\n",
    "    with_labels=True,\n",
    "    node_color='#ff6d00', \n",
    "    node_size=2500,\n",
    "    font_size=10,\n",
    "    font_weight='bold',\n",
    "    font_color='black',\n",
    "    edge_color='gray',\n",
    "    width=2\n",
    ")\n",
    "\n",
    "# 5. Añadir título y guardar/mostrar la imagen\n",
    "plt.title('Grafo de la Red \"Corazón de Chiapas\"')\n",
    "\n",
    "# Guardamos la imagen en un archivo\n",
    "plt.savefig(\"grafo_corazon_chiapas.png\", bbox_inches='tight')\n",
    "\n",
    "# Mostramos la imagen en la salida del notebook\n",
    "plt.show()"
   ]
  }
 ],
 "metadata": {
  "kernelspec": {
   "display_name": "Python 3",
   "language": "python",
   "name": "python3"
  },
  "language_info": {
   "name": "python",
   "version": "3.10.0"
  }
 },
 "nbformat": 4,
 "nbformat_minor": 2
}
