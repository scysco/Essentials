{
 "cells": [
  {
   "cell_type": "markdown",
   "metadata": {},
   "source": [
    "# 🛤️ Proyecto: Rutas de Patrullaje \"Festival del Viento\"\n",
    "\n",
    "Este notebook analiza la viabilidad de una ruta de patrullaje óptima en un festival utilizando la **Teoría de Grafos**, específicamente el concepto de **Circuitos Eulerianos**. \n",
    "\n",
    "El objetivo es determinar si un guardia puede **recorrer cada sendero exactamente una vez** y regresar al inicio, y proponer una solución si no es posible.\n",
    "\n",
    "[![Open In Colab](https://colab.research.google.com/assets/colab-badge.svg)](https://colab.research.google.com/github/scysco/Essentials/blob/main/graph_theory/pj_rutas_festival/pj_rutas_festival.ipynb)"
   ]
  },
  {
   "cell_type": "markdown",
   "metadata": {},
   "source": [
    "## 🛠️ 1. Instalación de Dependencias\n",
    "\n",
    "Solo necesitamos `networkx` para el grafo y `matplotlib` para dibujarlo."
   ]
  },
  {
   "cell_type": "code",
   "execution_count": null,
   "metadata": {},
   "outputs": [],
   "source": [
    "!pip install networkx matplotlib"
   ]
  },
  {
   "cell_type": "markdown",
   "metadata": {},
   "source": [
    "## 📦 2. Importación de Librerías"
   ]
  },
  {
   "cell_type": "code",
   "execution_count": null,
   "metadata": {},
   "outputs": [],
   "source": [
    "import networkx as nx\n",
    "import matplotlib.pyplot as plt\n",
    "import warnings\n",
    "\n",
    "# Ocultar advertencias futuras de Matplotlib/NetworkX para una salida más limpia\n",
    "warnings.filterwarnings(\"ignore\", category=FutureWarning)"
   ]
  },
  {
   "cell_type": "markdown",
   "metadata": {},
   "source": [
    "## 📊 3. Grafo Original: Análisis Euleriano\n",
    "\n",
    "Primero, modelamos el festival como un **Grafo No Dirigido** (`nx.Graph`) y definimos sus zonas (nodos) y senderos (aristas)."
   ]
  },
  {
   "cell_type": "code",
   "execution_count": null,
   "metadata": {},
   "outputs": [],
   "source": [
    "# 1. Crear el Grafo Original\n",
    "G_orig = nx.Graph()\n",
    "\n",
    "# 2. Definir Nodos (Zonas)\n",
    "node_labels = {\n",
    "    'EP': 'Entrada Principal',\n",
    "    'ES': 'Escenario Sol',\n",
    "    'ZG': 'Zona Gastronómica',\n",
    "    'EL': 'Escenario Luna',\n",
    "    'AD': 'Área de Descanso',\n",
    "    'ML': 'Muelle'\n",
    "}\n",
    "G_orig.add_nodes_from(node_labels.keys())\n",
    "\n",
    "# 3. Definir Aristas (Senderos)\n",
    "edges_list_orig = [\n",
    "    ('EP', 'ES'), ('EP', 'ZG'), ('ES', 'ZG'), ('ES', 'EL'), \n",
    "    ('ZG', 'AD'), ('EL', 'AD'), ('EL', 'ML'), ('AD', 'ML')\n",
    "]\n",
    "G_orig.add_edges_from(edges_list_orig)\n",
    "\n",
    "# 4. Calcular Grados\n",
    "degrees_orig = dict(G_orig.degree())\n",
    "\n",
    "# 5. Crear Etiquetas y Colores basados en Grados\n",
    "custom_labels_orig = {}\n",
    "node_colors_orig = []\n",
    "for node, name in node_labels.items():\n",
    "    degree = degrees_orig[node]\n",
    "    custom_labels_orig[node] = f\"{name}\\n(Grado: {degree})\"\n",
    "    # Resaltar nodos con grado impar (el problema)\n",
    "    if degree % 2 != 0:\n",
    "        node_colors_orig.append('#e53935') # Rojo\n",
    "    else:\n",
    "        node_colors_orig.append('#43a047') # Verde"
   ]
  },
  {
   "cell_type": "markdown",
   "metadata": {},
   "source": [
    "### Teorema del Circuito Euleriano\n",
    "\n",
    "Un grafo tiene un **Circuito Euleriano** (empezar, recorrer todas las aristas 1 vez, y terminar en el inicio) si y solo si:\n",
    "1.  Está conectado.\n",
    "2.  **Todos** sus nodos tienen **grado par**.\n",
    "\n",
    "Vamos a comprobarlo:"
   ]
  },
  {
   "cell_type": "code",
   "execution_count": null,
   "metadata": {},
   "outputs": [],
   "source": [
    "# Comprobar la condición Euleriana\n",
    "is_eulerian = all(degree % 2 == 0 for degree in degrees_orig.values())\n",
    "\n",
    "print(f\"--- ANÁLISIS DEL GRAFO ORIGINAL ---\")\n",
    "print(f\"Grados de cada nodo: {degrees_orig}\")\n",
    "print(f\"¿Tiene un Circuito Euleriano? {is_eulerian}\")\n",
    "\n",
    "if not is_eulerian:\n",
    "    odd_nodes = [node for node, degree in degrees_orig.items() if degree % 2 != 0]\n",
    "    print(f\"Problema: Los nodos {odd_nodes} tienen grado impar.\")"
   ]
  },
  {
   "cell_type": "markdown",
   "metadata": {},
   "source": [
    "### Visualización (Original)\n",
    "\n",
    "Los nodos en **rojo** son los que tienen grado impar, impidiendo la ruta."
   ]
  },
  {
   "cell_type": "code",
   "execution_count": null,
   "metadata": {},
   "outputs": [],
   "source": [
    "# Dibujar el Grafo Original\n",
    "pos_orig = nx.spring_layout(G_orig, seed=42, k=0.8)\n",
    "plt.figure(figsize=(14, 9))\n",
    "\n",
    "nx.draw(\n",
    "    G_orig,\n",
    "    pos=pos_orig,\n",
    "    labels=custom_labels_orig,\n",
    "    with_labels=True,\n",
    "    node_color=node_colors_orig,\n",
    "    node_size=3500,\n",
    "    font_size=10,\n",
    "    font_weight='bold',\n",
    "    font_color='black',\n",
    "    edge_color='gray',\n",
    "    width=2\n",
    ")\n",
    "\n",
    "plt.title('Grafo del Festival (Original - No Euleriano)', fontsize=16)\n",
    "plt.savefig(\"grafo_festival_original.png\", bbox_inches='tight')\n",
    "plt.show()"
   ]
  },
  {
   "cell_type": "markdown",
   "metadata": {},
   "source": [
    "## 🔄 4. Grafo Modificado: Propuesta de Solución\n",
    "\n",
    "Para que el grafo sea Euleriano, debemos hacer que los 4 nodos impares (`ES`, `ZG`, `EL`, `AD`) tengan grado par. La forma más simple es añadir aristas entre pares de ellos.\n",
    "\n",
    "**Solución Propuesta:** Añadir un nuevo sendero (arista) entre la **Zona Gastronómica (`ZG`)** y el **Escenario Luna (`EL`)**. \n",
    "\n",
    "* Grado de `ZG` pasa de 3 a 4 (par).\n",
    "* Grado de `EL` pasa de 3 a 4 (par).\n",
    "\n",
    "*(Nota: Aún quedan `ES` y `AD` con grado impar. El script `graph_festival.py` original tenía un error, solo añadía 1 arista. Para hacerlo Euleriano, necesitamos añadir OTRA arista, por ejemplo, entre `ES` y `AD`)*.\n",
    "\n",
    "**ACTUALIZACIÓN:** Basado en el `graph_festival.py` del repositorio, la solución propuesta añade **dos aristas**: `('ZG', 'EL')` y `('ES', 'AD')`."
   ]
  },
  {
   "cell_type": "code",
   "execution_count": null,
   "metadata": {},
   "outputs": [],
   "source": [
    "# 1. Copiar el grafo original\n",
    "G_mod = G_orig.copy()\n",
    "\n",
    "# 2. Añadir las nuevas aristas (senderos) para arreglar los 4 nodos impares\n",
    "new_edges = [('ZG', 'EL'), ('ES', 'AD')]\n",
    "G_mod.add_edges_from(new_edges)\n",
    "\n",
    "# 3. Recalcular Grados\n",
    "degrees_mod = dict(G_mod.degree())\n",
    "\n",
    "# 4. Crear Etiquetas y Colores\n",
    "custom_labels_mod = {}\n",
    "node_colors_mod = []\n",
    "for node, name in node_labels.items():\n",
    "    degree = degrees_mod[node]\n",
    "    custom_labels_mod[node] = f\"{name}\\n(Grado: {degree})\"\n",
    "    # Ahora todos deberían ser pares\n",
    "    if degree % 2 != 0:\n",
    "        node_colors_mod.append('#e53935') # Rojo (error)\n",
    "    else:\n",
    "        node_colors_mod.append('#43a047') # Verde (éxito)\n",
    "\n",
    "# 5. Comprobar la condición Euleriana de nuevo\n",
    "is_eulerian_mod = all(degree % 2 == 0 for degree in degrees_mod.values())\n",
    "print(f\"--- ANÁLISIS DEL GRAFO MODIFICADO ---\")\n",
    "print(f\"Grados de cada nodo: {degrees_mod}\")\n",
    "print(f\"¿Tiene un Circuito Euleriano? {is_eulerian_mod}\")"
   ]
  },
  {
   "cell_type": "markdown",
   "metadata": {},
   "source": [
    "### Visualización (Modificado)\n",
    "\n",
    "Con los nuevos senderos (en azul), todos los nodos son **verdes** (grado par), lo que confirma que la ruta de patrullaje ideal **ahora es posible**."
   ]
  },
  {
   "cell_type": "code",
   "execution_count": null,
   "metadata": {},
   "outputs": [],
   "source": [
    "# Dibujar el Grafo Modificado\n",
    "pos_mod = nx.spring_layout(G_mod, seed=42, k=0.8)\n",
    "plt.figure(figsize=(14, 9))\n",
    "\n",
    "# Dibujar nodos y aristas antiguas\n",
    "nx.draw(\n",
    "    G_mod,\n",
    "    pos=pos_mod,\n",
    "    labels=custom_labels_mod,\n",
    "    with_labels=True,\n",
    "    node_color=node_colors_mod,\n",
    "    node_size=3500,\n",
    "    font_size=10,\n",
    "    font_weight='bold',\n",
    "    font_color='black',\n",
    "    edge_color='gray',\n",
    "    width=2\n",
    ")\n",
    "\n",
    "# Resaltar las nuevas aristas añadidas\n",
    "nx.draw_networkx_edges(\n",
    "    G_mod,\n",
    "    pos=pos_mod,\n",
    "    edgelist=new_edges,\n",
    "    edge_color='#0277bd', # Azul\n",
    "    width=3,\n",
    "    style='dashed'\n",
    ")\n",
    "\n",
    "plt.title('Grafo del Festival (Modificado - ¡Euleriano!)', fontsize=16)\n",
    "plt.savefig(\"grafo_festival_modificado.png\", bbox_inches='tight')\n",
    "plt.show()"
   ]
  }
 ],
 "metadata": {
  "kernelspec": {
   "display_name": "Python 3",
   "language": "python",
   "name": "python3"
  },
  "language_info": {
   "name": "python",
   "version": "3.10.0"
  }
 },
 "nbformat": 4,
 "nbformat_minor": 2
}
