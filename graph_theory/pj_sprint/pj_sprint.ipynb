{
 "cells": [
  {
   "cell_type": "markdown",
   "metadata": {},
   "source": [
    "# 🏃 Proyecto: Modelado de Flujo de Sprint (Scrum)\n",
    "\n",
    "Este notebook modela el flujo de trabajo de un sprint de desarrollo ágil (Scrum) como un **Grafo Dirigido (DiGraph)**, basado en un caso de estudio de la materia Matemáticas Discretas.\n",
    "\n",
    "Se visualizará el grafo original y una versión modificada, calculando los **grados de entrada** y **salida** para cada fase.\n",
    "\n",
    "[![Open In Colab](https://colab.research.google.com/assets/colab-badge.svg)](https://colab.research.google.com/github/scysco/Essentials/blob/main/graph_theory/pj_sprint/pj_sprint.ipynb)"
   ]
  },
  {
   "cell_type": "markdown",
   "metadata": {},
   "source": [
    "## 🛠️ 1. Instalación de Dependencias\n",
    "\n",
    "Solo necesitamos `networkx` para el grafo y `matplotlib` para dibujarlo. A diferencia de otros layouts, `spring_layout` no requiere `scipy`."
   ]
  },
  {
   "cell_type": "code",
   "execution_count": null,
   "metadata": {},
   "outputs": [],
   "source": [
    "!pip install networkx matplotlib"
   ]
  },
  {
   "cell_type": "markdown",
   "metadata": {},
   "source": [
    "## 📦 2. Importación de Librerías"
   ]
  },
  {
   "cell_type": "code",
   "execution_count": null,
   "metadata": {},
   "outputs": [],
   "source": [
    "import networkx as nx\n",
    "import matplotlib.pyplot as plt"
   ]
  },
  {
   "cell_type": "markdown",
   "metadata": {},
   "source": [
    "## 📊 3. Grafo Original: Definición y Visualización\n",
    "\n",
    "Primero, modelamos el flujo de trabajo exactamente como se describe en el caso de estudio."
   ]
  },
  {
   "cell_type": "code",
   "execution_count": null,
   "metadata": {},
   "outputs": [],
   "source": [
    "# 1. Crear un Grafo Dirigido\n",
    "G_orig = nx.DiGraph()\n",
    "\n",
    "# 2. Definir Nodos (Fases del Sprint)\n",
    "node_labels = {\n",
    "    'B': 'Backlog',\n",
    "    'P': 'Planning',\n",
    "    'D': 'Development',\n",
    "    'CR': 'Code Review',\n",
    "    'T': 'Testing',\n",
    "    'Dep': 'Deployment',\n",
    "    'R': 'Retrospective'\n",
    "}\n",
    "G_orig.add_nodes_from(node_labels.keys())\n",
    "\n",
    "# 3. Definir Aristas (Transiciones del flujo)\n",
    "edges_list = [\n",
    "    ('B', 'P'), ('P', 'D'), ('D', 'CR'), ('CR', 'D'), ('CR', 'T'),\n",
    "    ('T', 'Dep'), ('Dep', 'R'), ('R', 'B'), ('P', 'CR'), ('D', 'T'),\n",
    "    ('T', 'R')\n",
    "]\n",
    "G_orig.add_edges_from(edges_list)\n",
    "\n",
    "# 4. Calcular Grados (Entrada y Salida)\n",
    "in_degrees = dict(G_orig.in_degree())\n",
    "out_degrees = dict(G_orig.out_degree())\n",
    "\n",
    "# 5. Crear Etiquetas Personalizadas (con grados)\n",
    "custom_labels_orig = {}\n",
    "for node, name in node_labels.items():\n",
    "    custom_labels_orig[node] = f\"{name}\\nIn: {in_degrees[node]} | Out: {out_degrees[node]}\""
   ]
  },
  {
   "cell_type": "code",
   "execution_count": null,
   "metadata": {},
   "outputs": [],
   "source": [
    "# 6. Dibujar el Grafo Original\n",
    "pos_orig = nx.spring_layout(G_orig, seed=42, k=0.9)\n",
    "plt.figure(figsize=(16, 10))\n",
    "\n",
    "nx.draw(\n",
    "    G_orig,\n",
    "    pos=pos_orig,\n",
    "    labels=custom_labels_orig,\n",
    "    with_labels=True,\n",
    "    node_color='#0288d1', \n",
    "    node_size=4000,\n",
    "    font_size=9,\n",
    "    font_weight='bold',\n",
    "    font_color='white',\n",
    "    edge_color='gray',\n",
    "    width=2,\n",
    "    arrowsize=20\n",
    ")\n",
    "\n",
    "plt.title('Grafo del Flujo de Sprint (Original)', fontsize=18)\n",
    "plt.savefig(\"grafo_sprint_original.png\", bbox_inches='tight')\n",
    "plt.show()"
   ]
  },
  {
   "cell_type": "markdown",
   "metadata": {},
   "source": [
    "## 🔄 4. Grafo Modificado: Simulación de Cambio\n",
    "\n",
    "Ahora, simulamos un cambio en el proceso:\n",
    "1.  Se añade un nuevo nodo: **'M' (Monitoreo)**, que ocurre después del Despliegue.\n",
    "2.  Se añade una nueva arista: **'R' -> 'P'** (la Retrospectiva ahora también alimenta directamente a la Planificación del siguiente sprint, además del Backlog)."
   ]
  },
  {
   "cell_type": "code",
   "execution_count": null,
   "metadata": {},
   "outputs": [],
   "source": [
    "# 1. Copiar el grafo original para modificarlo\n",
    "G_mod = G_orig.copy()\n",
    "\n",
    "# 2. Añadir nuevo Nodo 'M' (Monitoreo)\n",
    "G_mod.add_node('M')\n",
    "node_labels['M'] = 'Monitoreo' # Actualizar el dict de etiquetas\n",
    "\n",
    "# 3. Añadir/Modificar Aristas\n",
    "G_mod.remove_edge('Dep', 'R') # Quitar la vieja arista\n",
    "G_mod.add_edges_from([\n",
    "    ('Dep', 'M'), # Deployment ahora va a Monitoreo\n",
    "    ('M', 'R'),   # Monitoreo va a Retrospectiva\n",
    "    ('R', 'P')    # Nueva arista: Retrospectiva a Planning\n",
    "])\n",
    "\n",
    "# 4. Recalcular Grados para el grafo modificado\n",
    "in_degrees_mod = dict(G_mod.in_degree())\n",
    "out_degrees_mod = dict(G_mod.out_degree())\n",
    "\n",
    "# 5. Crear Nuevas Etiquetas Personalizadas\n",
    "custom_labels_mod = {}\n",
    "for node, name in node_labels.items():\n",
    "    custom_labels_mod[node] = f\"{name}\\nIn: {in_degrees_mod.get(node, 0)} | Out: {out_degrees_mod.get(node, 0)}\""
   ]
  },
  {
   "cell_type": "code",
   "execution_count": null,
   "metadata": {},
   "outputs": [],
   "source": [
    "# 6. Dibujar el Grafo Modificado\n",
    "pos_mod = nx.spring_layout(G_mod, seed=42, k=0.9)\n",
    "plt.figure(figsize=(16, 10))\n",
    "\n",
    "nx.draw(\n",
    "    G_mod,\n",
    "    pos=pos_mod,\n",
    "    labels=custom_labels_mod,\n",
    "    with_labels=True,\n",
    "    node_color='#c62828', # Color diferente para distinguirlo\n",
    "    node_size=4000,\n",
    "    font_size=9,\n",
    "    font_weight='bold',\n",
    "    font_color='white',\n",
    "    edge_color='gray',\n",
    "    width=2,\n",
    "    arrowsize=20\n",
    ")\n",
    "\n",
    "plt.title('Grafo del Flujo de Sprint (Modificado)', fontsize=18)\n",
    "plt.savefig(\"grafo_sprint_modificado.png\", bbox_inches='tight')\n",
    "plt.show()"
   ]
  }
 ],
 "metadata": {
  "kernelspec": {
   "display_name": "Python 3",
   "language": "python",
   "name": "python3"
  },
  "language_info": {
   "name": "python",
   "version": "3.10.0"
  }
 },
 "nbformat": 4,
 "nbformat_minor": 2
}
