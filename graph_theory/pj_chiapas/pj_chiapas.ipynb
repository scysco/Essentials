{
 "cells": [
  {
   "cell_type": "markdown",
   "metadata": {},
   "source": [
    "# 🗺️ Proyecto: Red de Distribución \"Corazón de Chiapas\"\n",
    "\n",
    "Este notebook modela una red de distribución logística utilizando Teoría de Grafos, basado en un caso de estudio de la materia Matemáticas Discretas. \n",
    "\n",
    "Esta versión calcula y muestra el **grado de cada nodo** (localidad) e identifica cada **arista** (conexión) con una etiqueta $e_n$.\n",
    "\n",
    "[![Open In Colab](https://colab.research.google.com/assets/colab-badge.svg)](https://colab.research.google.com/github/scysco/Essentials/blob/main/graph_theory/pj_chiapas/pj_chiapas.ipynb)\n",
    "\n",
    "---"
   ]
  },
  {
   "cell_type": "markdown",
   "metadata": {},
   "source": [
    "## 🛠️ 1. Instalación de Dependencias\n",
    "\n",
    "Primero, nos aseguramos de tener las librerías necesarias. \n",
    "* `networkx` para la creación y manejo de grafos.\n",
    "* `matplotlib` para la visualización.\n",
    "* `scipy` que es una dependencia de `networkx` para layouts avanzados como `kamada_kawai`."
   ]
  },
  {
   "cell_type": "code",
   "execution_count": null,
   "metadata": {},
   "outputs": [],
   "source": [
    "!pip install networkx matplotlib scipy"
   ]
  },
  {
   "cell_type": "markdown",
   "metadata": {},
   "source": [
    "## 📦 2. Importación de Librerías\n",
    "\n",
    "Ahora importamos los módulos que usaremos en nuestro script."
   ]
  },
  {
   "cell_type": "code",
   "execution_count": null,
   "metadata": {},
   "outputs": [],
   "source": [
    "import networkx as nx\n",
    "import matplotlib.pyplot as plt"
   ]
  },
  {
   "cell_type": "markdown",
   "metadata": {},
   "source": [
    "## 🎯 3. Definición y Construcción del Grafo\n",
    "\n",
    "Basado en el caso de estudio, definimos los componentes del grafo:\n",
    "\n",
    "1.  **Nodos (Vértices) 📍**: Las localidades.\n",
    "2.  **Aristas (Ejes) ↔️**: Las conexiones viales directas.\n",
    "3.  **Grados**: Calculamos el grado de cada nodo (cuántas conexiones tiene).\n",
    "4.  **Etiquetas**: Creamos etiquetas personalizadas para los nodos (incluyendo su grado) y para las aristas (con formato $e_n$)."
   ]
  },
  {
   "cell_type": "code",
   "execution_count": null,
   "metadata": {},
   "outputs": [],
   "source": [
    "# 1. Creo un grafo No Dirigido (simple)\n",
    "G = nx.Graph()\n",
    "\n",
    "# 2. Defino los nodos (Vértices)\n",
    "nodes_simple = {\n",
    "    'BC': 'Balún Canán',\n",
    "    'J': 'Jocotal',\n",
    "    'PL': 'Piedra Larga',\n",
    "    'RF': 'Río Florido',\n",
    "    'AC': 'Agua Clara',\n",
    "    'M': 'Montebello'\n",
    "}\n",
    "G.add_nodes_from(nodes_simple.keys())\n",
    "\n",
    "# 3. Defino las aristas (E) - Conexiones de doble sentido\n",
    "edges_list = [\n",
    "    ('BC', 'J'),   # Balún Canán - Jocotal e1\n",
    "    ('BC', 'AC'),  # Balún Canán - Agua Clara e2\n",
    "    ('BC', 'RF'),  # Balún Canán - Río Florido e3\n",
    "    ('J', 'PL'),   # Jocotal - Piedra Larga e4\n",
    "    ('PL', 'RF'),  # Piedra Larga - Río Florido e5\n",
    "    ('AC', 'M'),   # Agua Clara - Montebello e6\n",
    "    ('RF', 'AC')   # Río Florido - Agua Clara e7\n",
    "]\n",
    "G.add_edges_from(edges_list)\n",
    "\n",
    "# 4. Calculo los grados\n",
    "degrees = dict(G.degree())\n",
    "print(\"Grados de cada nodo:\", degrees)\n",
    "\n",
    "# 5. Etiquetas personalizadas para nodos (con grado)\n",
    "custom_labels = {}\n",
    "for node, name in nodes_simple.items():\n",
    "    custom_labels[node] = f\"{name}\\n(Grado: {degrees[node]})\"\n",
    "\n",
    "# 6. Etiquetas para aristas\n",
    "edge_labels = {\n",
    "    ('BC', 'J'): '$e_1$',\n",
    "    ('BC', 'AC'): '$e_2$',\n",
    "    ('BC', 'RF'): '$e_3$',\n",
    "    ('J', 'PL'): '$e_4$',\n",
    "    ('PL', 'RF'): '$e_5$',\n",
    "    ('AC', 'M'): '$e_6$',\n",
    "    ('AC', 'RF'): '$e_7$'  # NetworkX maneja el orden del tuple ('RF','AC') vs ('AC','RF')\n",
    "}\n",
    "\n",
    "print(\"\\n✅ Grafo y etiquetas listos.\")"
   ]
  },
  {
   "cell_type": "markdown",
   "metadata": {},
   "source": [
    "## 📊 4. Visualización del Grafo\n",
    "\n",
    "Ahora que el grafo está construido, procedemos a dibujarlo.\n",
    "\n",
    "1.  **Layout**: Usamos `nx.kamada_kawai_layout(G)` que requiere `scipy` para calcular las posiciones (x, y) de cada nodo de forma optimizada.\n",
    "2.  **Dibujo de Nodos y Aristas**: Usamos `nx.draw()` para renderizar el grafo, pasando nuestras etiquetas de nodo personalizadas.\n",
    "3.  **Dibujo de Etiquetas de Aristas**: Usamos `nx.draw_networkx_edge_labels()` para añadir las etiquetas $e_n$ sobre cada conexión.\n",
    "4.  **Resultado**: Mostramos el gráfico en pantalla con `plt.show()` y lo guardamos en un archivo `png`."
   ]
  },
  {
   "cell_type": "code",
   "execution_count": null,
   "metadata": {},
   "outputs": [],
   "source": [
    "# 1. Defino un layout\n",
    "pos = nx.kamada_kawai_layout(G)\n",
    "\n",
    "# 2. Dibujo el grafo\n",
    "plt.figure(figsize=(14, 9))\n",
    "nx.draw(\n",
    "    G,\n",
    "    pos,\n",
    "    labels=custom_labels,  \n",
    "    with_labels=True,\n",
    "    node_color='#ff6d00', \n",
    "    node_size=4500,\n",
    "    font_size=10,\n",
    "    font_weight='bold',\n",
    "    font_color='black',\n",
    "    edge_color='gray',\n",
    "    width=2\n",
    ")\n",
    "\n",
    "# 3. Dibujo las etiquetas de las aristas\n",
    "nx.draw_networkx_edge_labels(\n",
    "    G,\n",
    "    pos,\n",
    "    edge_labels=edge_labels,\n",
    "    font_color='blue',\n",
    "    font_size=18,\n",
    "    font_weight='bold',\n",
    "    bbox=dict(facecolor='white', alpha=0.5, edgecolor='none', pad=0.1) \n",
    ")\n",
    "\n",
    "# 4. Añadir título y guardar/mostrar la imagen\n",
    "plt.title('Grafo de la Red \"Corazón de Chiapas\"', fontsize=16)\n",
    "plt.savefig(\"grafo_corazon_chiapas.png\", bbox_inches='tight')\n",
    "plt.show()"
   ]
  }
 ],
 "metadata": {
  "kernelspec": {
   "display_name": "Python 3",
   "language": "python",
   "name": "python3"
  },
  "language_info": {
   "name": "python",
   "version": "3.10.0"
  }
 },
 "nbformat": 4,
 "nbformat_minor": 2
}
